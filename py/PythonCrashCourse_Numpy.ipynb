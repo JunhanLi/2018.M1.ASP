{
 "cells": [
  {
   "cell_type": "markdown",
   "metadata": {},
   "source": [
    "# Numpy Package"
   ]
  },
  {
   "cell_type": "code",
   "execution_count": 1,
   "metadata": {
    "collapsed": true
   },
   "outputs": [],
   "source": [
    "import numpy as np"
   ]
  },
  {
   "cell_type": "markdown",
   "metadata": {},
   "source": [
    "## Document and Auto-completion in Jupyter"
   ]
  },
  {
   "cell_type": "code",
   "execution_count": null,
   "metadata": {
    "collapsed": true
   },
   "outputs": [],
   "source": [
    "# np.[TAB]\n",
    "np."
   ]
  },
  {
   "cell_type": "code",
   "execution_count": null,
   "metadata": {
    "collapsed": true
   },
   "outputs": [],
   "source": [
    "# Help document\n",
    "np.random.normal?"
   ]
  },
  {
   "cell_type": "code",
   "execution_count": 94,
   "metadata": {
    "collapsed": false
   },
   "outputs": [],
   "source": [
    "# [Sh-Tab] to show function arguments\n",
    "np.random.normal"
   ]
  },
  {
   "cell_type": "markdown",
   "metadata": {},
   "source": [
    "## Vector & Matrix"
   ]
  },
  {
   "cell_type": "code",
   "execution_count": 3,
   "metadata": {
    "collapsed": false
   },
   "outputs": [
    {
     "name": "stdout",
     "output_type": "stream",
     "text": [
      "[0 1 2 3 4 5 6]\n",
      "1\n",
      "(7,)\n",
      "0 1 6\n",
      "[2 3 4] [4 5]\n",
      "[0 1] [3 4 5 6]\n"
     ]
    }
   ],
   "source": [
    "t = np.array([0, 1, 2, 3, 4, 5, 6])\n",
    "\n",
    "print(t)\n",
    "print(t.ndim) # rank\n",
    "print(t.shape) # shape\n",
    "print(t[0], t[1], t[-1])\n",
    "print(t[2:5], t[4:-1])\n",
    "print(t[:2], t[3:])"
   ]
  },
  {
   "cell_type": "markdown",
   "metadata": {},
   "source": [
    "### Matrix multiplication"
   ]
  },
  {
   "cell_type": "code",
   "execution_count": 9,
   "metadata": {
    "collapsed": false
   },
   "outputs": [
    {
     "name": "stdout",
     "output_type": "stream",
     "text": [
      "[2 5 2] \n",
      " [[ 1.   0.7 -0.2]\n",
      " [ 0.2  1.   0.5]\n",
      " [ 0.2 -0.5  1. ]]\n"
     ]
    }
   ],
   "source": [
    "vec_x = np.array([2, 5, 2])\n",
    "mat_A = np.array([[1, 0.7, -0.2], [0.2, 1, 0.5], [0.2, -0.5, 1]])\n",
    "print(vec_x, '\\n', mat_A)"
   ]
  },
  {
   "cell_type": "code",
   "execution_count": 10,
   "metadata": {
    "collapsed": false
   },
   "outputs": [
    {
     "name": "stdout",
     "output_type": "stream",
     "text": [
      "[ 4 25  4] \n",
      "\n",
      "[[1.   0.49 0.04]\n",
      " [0.04 1.   0.25]\n",
      " [0.04 0.25 1.  ]] \n",
      "\n",
      "[[ 2.   3.5 -0.4]\n",
      " [ 0.4  5.   1. ]\n",
      " [ 0.4 -2.5  2. ]] \n",
      "\n",
      "[[ 2.   3.5 -0.4]\n",
      " [ 0.4  5.   1. ]\n",
      " [ 0.4 -2.5  2. ]] \n",
      "\n"
     ]
    }
   ],
   "source": [
    "# Vector * Vector (Matrix * Matrix): Component-wise\n",
    "print(vec_x * vec_x, '\\n')\n",
    "print(mat_A * mat_A, '\\n')\n",
    "\n",
    "# Matrix x Vector ??: component-wise in each vector\n",
    "print( mat_A * vec_x, '\\n')\n",
    "print( vec_x * mat_A, '\\n') # Same"
   ]
  },
  {
   "cell_type": "code",
   "execution_count": 11,
   "metadata": {
    "collapsed": false
   },
   "outputs": [
    {
     "name": "stdout",
     "output_type": "stream",
     "text": [
      "33\n",
      "33\n"
     ]
    }
   ],
   "source": [
    "# Dot(inner) product\n",
    "print( np.dot(vec_x, vec_x) )\n",
    "print( vec_x.dot(vec_x) ) # same"
   ]
  },
  {
   "cell_type": "code",
   "execution_count": 12,
   "metadata": {
    "collapsed": false,
    "scrolled": true
   },
   "outputs": [
    {
     "name": "stdout",
     "output_type": "stream",
     "text": [
      "[[ 1.1   1.5  -0.05]\n",
      " [ 0.5   0.89  0.96]\n",
      " [ 0.3  -0.86  0.71]] \n",
      "\n",
      "[ 5.1  6.4 -0.1] \n",
      "\n",
      "[3.4 5.4 4.1]\n"
     ]
    }
   ],
   "source": [
    "# Matrix multiplication ?\n",
    "print(mat_A @ mat_A, '\\n')\n",
    "\n",
    "print(np.matmul(mat_A, vec_x), '\\n')  # sig_v is treated as a column vector\n",
    "\n",
    "print(np.matmul(vec_x, mat_A)) # sig_v is treated as a row vector"
   ]
  },
  {
   "cell_type": "code",
   "execution_count": 22,
   "metadata": {
    "collapsed": false
   },
   "outputs": [
    {
     "name": "stdout",
     "output_type": "stream",
     "text": [
      "[[2]\n",
      " [5]\n",
      " [2]]\n",
      "[[2]\n",
      " [5]\n",
      " [2]]\n",
      "[[2]\n",
      " [5]\n",
      " [2]]\n"
     ]
    }
   ],
   "source": [
    "# Convert vecto to a matrix with single column\n",
    "print( vec_x[:,None])\n",
    "print( np.reshape(vec_x,(3,1)) )\n",
    "print( vec_x.reshape((3,1)) )"
   ]
  },
  {
   "cell_type": "markdown",
   "metadata": {},
   "source": [
    "### Initialization"
   ]
  },
  {
   "cell_type": "code",
   "execution_count": 52,
   "metadata": {
    "collapsed": false
   },
   "outputs": [
    {
     "name": "stdout",
     "output_type": "stream",
     "text": [
      "[0 0 0 0 0]\n",
      "[[1. 1. 1.]\n",
      " [1. 1. 1.]\n",
      " [1. 1. 1.]]\n"
     ]
    }
   ],
   "source": [
    "vec_y = np.ones(10)\n",
    "vec_z = np.zeros((5,), dtype=int)\n",
    "print(vec_z)\n",
    "\n",
    "#mat_B = np.zeros((3,3))\n",
    "#mat_B = np.zeros_like(mat_A)\n",
    "mat_B = np.ones_like(mat_A)\n",
    "print(mat_B)\n",
    "\n",
    "x_norm = np.random.normal(10,2,size=(10000,5))\n",
    "x_unif = np.random.uniform(size=(10000,5))"
   ]
  },
  {
   "cell_type": "code",
   "execution_count": null,
   "metadata": {
    "collapsed": false
   },
   "outputs": [],
   "source": []
  },
  {
   "cell_type": "code",
   "execution_count": null,
   "metadata": {
    "collapsed": true
   },
   "outputs": [],
   "source": []
  },
  {
   "cell_type": "code",
   "execution_count": null,
   "metadata": {
    "collapsed": true
   },
   "outputs": [],
   "source": []
  },
  {
   "cell_type": "markdown",
   "metadata": {},
   "source": [
    "### Operations on Matrix"
   ]
  },
  {
   "cell_type": "code",
   "execution_count": null,
   "metadata": {
    "collapsed": true
   },
   "outputs": [],
   "source": [
    "# Axis 0: Column, Axis 1: Row\n",
    "print( np.mean(x_norm, axis=1) )\n",
    "print( np.std(x_norm, axis=1) )"
   ]
  },
  {
   "cell_type": "code",
   "execution_count": 71,
   "metadata": {
    "collapsed": false
   },
   "outputs": [
    {
     "name": "stdout",
     "output_type": "stream",
     "text": [
      "0.009315002671939333\n",
      "[ 0.02477672  0.00943336  0.02205258 -0.00783942 -0.00184823]\n",
      "[ 0.06884625  0.19151922 -0.36689168 ...  0.56107496 -0.10636838\n",
      " -0.76635605]\n",
      "0.009315002671939333\n"
     ]
    }
   ],
   "source": [
    "print( np.mean(x_norm) )\n",
    "print( np.mean(x_norm,axis=0) )\n",
    "print( np.mean(x_norm,axis=1) )\n",
    "print( np.mean(x_norm,axis=(0,1)) )"
   ]
  },
  {
   "cell_type": "code",
   "execution_count": 84,
   "metadata": {
    "collapsed": false
   },
   "outputs": [
    {
     "name": "stdout",
     "output_type": "stream",
     "text": [
      "[[ -1   1   1 ...   1   1  -1]\n",
      " [  0   0   0 ...   0   2   0]\n",
      " [ -1  -1   1 ...  -1   1  -1]\n",
      " ...\n",
      " [ 32 -88 -22 ...  14 -12 -24]\n",
      " [ 33 -87 -21 ...  15 -13 -23]\n",
      " [ 34 -86 -22 ...  14 -14 -24]]\n"
     ]
    }
   ],
   "source": [
    "# Random Walk Simulation\n",
    "x_rw = np.random.binomial(1,0.5,size=(1000,10))*2 - 1\n",
    "x_cum = np.cumsum(x_rw, axis=0)\n",
    "print(x_cum)"
   ]
  },
  {
   "cell_type": "code",
   "execution_count": 85,
   "metadata": {
    "collapsed": false
   },
   "outputs": [],
   "source": [
    "%matplotlib inline\n",
    "import matplotlib.pyplot as plt"
   ]
  },
  {
   "cell_type": "code",
   "execution_count": 86,
   "metadata": {
    "collapsed": false
   },
   "outputs": [
    {
     "data": {
      "text/plain": [
       "[<matplotlib.lines.Line2D at 0x8f09a20>,\n",
       " <matplotlib.lines.Line2D at 0x8f09b70>,\n",
       " <matplotlib.lines.Line2D at 0x8f09cc0>,\n",
       " <matplotlib.lines.Line2D at 0x8f09e10>,\n",
       " <matplotlib.lines.Line2D at 0x8f09f60>,\n",
       " <matplotlib.lines.Line2D at 0x8f0e0f0>,\n",
       " <matplotlib.lines.Line2D at 0x8f0e240>,\n",
       " <matplotlib.lines.Line2D at 0x8f0e390>,\n",
       " <matplotlib.lines.Line2D at 0x8f0e4e0>,\n",
       " <matplotlib.lines.Line2D at 0x8f0e630>]"
      ]
     },
     "execution_count": 86,
     "metadata": {},
     "output_type": "execute_result"
    },
    {
     "data": {
      "image/png": "[encoded data removed]",
      "text/plain": [
       "<Figure size 432x288 with 1 Axes>"
      ]
     },
     "metadata": {},
     "output_type": "display_data"
    }
   ],
   "source": [
    "plt.plot(x_cum)"
   ]
  },
  {
   "cell_type": "code",
   "execution_count": 88,
   "metadata": {
    "collapsed": false
   },
   "outputs": [],
   "source": [
    "np.sum?"
   ]
  },
  {
   "cell_type": "code",
   "execution_count": null,
   "metadata": {
    "collapsed": true
   },
   "outputs": [],
   "source": []
  }
 ],
 "metadata": {
  "anaconda-cloud": {},
  "kernelspec": {
   "display_name": "Python [default]",
   "language": "python",
   "name": "python3"
  },
  "language_info": {
   "codemirror_mode": {
    "name": "ipython",
    "version": 3
   },
   "file_extension": ".py",
   "mimetype": "text/x-python",
   "name": "python",
   "nbconvert_exporter": "python",
   "pygments_lexer": "ipython3",
   "version": "3.5.2"
  }
 },
 "nbformat": 4,
 "nbformat_minor": 1
}
