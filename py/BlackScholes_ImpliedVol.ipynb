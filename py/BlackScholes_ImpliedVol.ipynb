{
 "cells": [
  {
   "cell_type": "markdown",
   "metadata": {},
   "source": [
    "# Root-finding using Python"
   ]
  },
  {
   "cell_type": "code",
   "execution_count": 1,
   "metadata": {
    "collapsed": false
   },
   "outputs": [],
   "source": [
    "import numpy as np\n",
    "import scipy.stats as ss\n",
    "import scipy.optimize as sopt\n",
    "import datetime as dt"
   ]
  },
  {
   "cell_type": "code",
   "execution_count": 2,
   "metadata": {
    "collapsed": false
   },
   "outputs": [],
   "source": [
    "def myFunc(x):\n",
    "    return( x**3 + 2*x - 10 )"
   ]
  },
  {
   "cell_type": "code",
   "execution_count": 3,
   "metadata": {
    "collapsed": false
   },
   "outputs": [
    {
     "name": "stdout",
     "output_type": "stream",
     "text": [
      "1.8474190378327324 -3.552713678800501e-15\n"
     ]
    }
   ],
   "source": [
    "x = sopt.brentq(myFunc, 1, 3)\n",
    "print(x, myFunc(x))"
   ]
  },
  {
   "cell_type": "code",
   "execution_count": 4,
   "metadata": {
    "collapsed": false
   },
   "outputs": [
    {
     "ename": "ValueError",
     "evalue": "f(a) and f(b) must have different signs",
     "output_type": "error",
     "traceback": [
      "\u001b[0;31m---------------------------------------------------------------------------\u001b[0m",
      "\u001b[0;31mValueError\u001b[0m                                Traceback (most recent call last)",
      "\u001b[0;32m<ipython-input-4-837b3b257fbf>\u001b[0m in \u001b[0;36m<module>\u001b[0;34m()\u001b[0m\n\u001b[1;32m      1\u001b[0m \u001b[1;31m# What if the intervals are not good?\u001b[0m\u001b[1;33m\u001b[0m\u001b[1;33m\u001b[0m\u001b[0m\n\u001b[0;32m----> 2\u001b[0;31m \u001b[0msopt\u001b[0m\u001b[1;33m.\u001b[0m\u001b[0mbrentq\u001b[0m\u001b[1;33m(\u001b[0m\u001b[0mmyFunc\u001b[0m\u001b[1;33m,\u001b[0m \u001b[1;36m1\u001b[0m\u001b[1;33m,\u001b[0m \u001b[1;36m1.5\u001b[0m\u001b[1;33m)\u001b[0m\u001b[1;33m\u001b[0m\u001b[0m\n\u001b[0m",
      "\u001b[0;32mD:\\sw\\Anaconda3\\lib\\site-packages\\scipy\\optimize\\zeros.py\u001b[0m in \u001b[0;36mbrentq\u001b[0;34m(f, a, b, args, xtol, rtol, maxiter, full_output, disp)\u001b[0m\n\u001b[1;32m    440\u001b[0m     \u001b[1;32mif\u001b[0m \u001b[0mrtol\u001b[0m \u001b[1;33m<\u001b[0m \u001b[0m_rtol\u001b[0m\u001b[1;33m:\u001b[0m\u001b[1;33m\u001b[0m\u001b[0m\n\u001b[1;32m    441\u001b[0m         \u001b[1;32mraise\u001b[0m \u001b[0mValueError\u001b[0m\u001b[1;33m(\u001b[0m\u001b[1;34m\"rtol too small (%g < %g)\"\u001b[0m \u001b[1;33m%\u001b[0m \u001b[1;33m(\u001b[0m\u001b[0mrtol\u001b[0m\u001b[1;33m,\u001b[0m \u001b[0m_rtol\u001b[0m\u001b[1;33m)\u001b[0m\u001b[1;33m)\u001b[0m\u001b[1;33m\u001b[0m\u001b[0m\n\u001b[0;32m--> 442\u001b[0;31m     \u001b[0mr\u001b[0m \u001b[1;33m=\u001b[0m \u001b[0m_zeros\u001b[0m\u001b[1;33m.\u001b[0m\u001b[0m_brentq\u001b[0m\u001b[1;33m(\u001b[0m\u001b[0mf\u001b[0m\u001b[1;33m,\u001b[0m\u001b[0ma\u001b[0m\u001b[1;33m,\u001b[0m\u001b[0mb\u001b[0m\u001b[1;33m,\u001b[0m\u001b[0mxtol\u001b[0m\u001b[1;33m,\u001b[0m\u001b[0mrtol\u001b[0m\u001b[1;33m,\u001b[0m\u001b[0mmaxiter\u001b[0m\u001b[1;33m,\u001b[0m\u001b[0margs\u001b[0m\u001b[1;33m,\u001b[0m\u001b[0mfull_output\u001b[0m\u001b[1;33m,\u001b[0m\u001b[0mdisp\u001b[0m\u001b[1;33m)\u001b[0m\u001b[1;33m\u001b[0m\u001b[0m\n\u001b[0m\u001b[1;32m    443\u001b[0m     \u001b[1;32mreturn\u001b[0m \u001b[0mresults_c\u001b[0m\u001b[1;33m(\u001b[0m\u001b[0mfull_output\u001b[0m\u001b[1;33m,\u001b[0m \u001b[0mr\u001b[0m\u001b[1;33m)\u001b[0m\u001b[1;33m\u001b[0m\u001b[0m\n\u001b[1;32m    444\u001b[0m \u001b[1;33m\u001b[0m\u001b[0m\n",
      "\u001b[0;31mValueError\u001b[0m: f(a) and f(b) must have different signs"
     ]
    }
   ],
   "source": [
    "# What if the intervals are not good?\n",
    "sopt.brentq(myFunc, 1, 1.5)"
   ]
  },
  {
   "cell_type": "markdown",
   "metadata": {},
   "source": [
    "## Binding Arguments "
   ]
  },
  {
   "cell_type": "markdown",
   "metadata": {},
   "source": [
    "### 1. Use functools.partial"
   ]
  },
  {
   "cell_type": "code",
   "execution_count": 5,
   "metadata": {
    "collapsed": true
   },
   "outputs": [],
   "source": [
    "# You want to solve myFunc(x) - y = 0\n",
    "# How we do define a function with arbitrary y?\n",
    "\n",
    "def myFuncY(y,x):\n",
    "    return myFunc(x) - y"
   ]
  },
  {
   "cell_type": "code",
   "execution_count": 6,
   "metadata": {
    "collapsed": false
   },
   "outputs": [],
   "source": [
    "import functools\n",
    "# functools.partial 'binds' the first argument to a specific value\n",
    "myFunc0 = functools.partial(myFuncY,0)"
   ]
  },
  {
   "cell_type": "code",
   "execution_count": 7,
   "metadata": {
    "collapsed": false
   },
   "outputs": [
    {
     "data": {
      "text/plain": [
       "(2, 2)"
      ]
     },
     "execution_count": 7,
     "metadata": {},
     "output_type": "execute_result"
    }
   ],
   "source": [
    "myFunc(2), myFunc0(2)"
   ]
  },
  {
   "cell_type": "code",
   "execution_count": 8,
   "metadata": {
    "collapsed": true
   },
   "outputs": [],
   "source": [
    "myFunc5 = functools.partial(myFuncY,5)"
   ]
  },
  {
   "cell_type": "code",
   "execution_count": 9,
   "metadata": {
    "collapsed": false
   },
   "outputs": [
    {
     "name": "stdout",
     "output_type": "stream",
     "text": [
      "2.1970910517887083 -7.105427357601002e-15\n"
     ]
    }
   ],
   "source": [
    "# Let's solve root\n",
    "x = sopt.brentq(myFunc5, 1, 3)\n",
    "print(x, myFunc5(x))"
   ]
  },
  {
   "cell_type": "markdown",
   "metadata": {},
   "source": [
    "### 2. Use lambda"
   ]
  },
  {
   "cell_type": "code",
   "execution_count": 10,
   "metadata": {
    "collapsed": false
   },
   "outputs": [
    {
     "data": {
      "text/plain": [
       "25"
      ]
     },
     "execution_count": 10,
     "metadata": {},
     "output_type": "execute_result"
    }
   ],
   "source": [
    "# lambda is used for a quick definition of a function\n",
    "g = lambda x: x**2\n",
    "g(5)"
   ]
  },
  {
   "cell_type": "code",
   "execution_count": 11,
   "metadata": {
    "collapsed": false
   },
   "outputs": [
    {
     "data": {
      "text/plain": [
       "(<function __main__.myFunc>, <function __main__.<lambda>>)"
      ]
     },
     "execution_count": 11,
     "metadata": {},
     "output_type": "execute_result"
    }
   ],
   "source": [
    "# See the difference between function and lambda\n",
    "myFunc, g"
   ]
  },
  {
   "cell_type": "markdown",
   "metadata": {},
   "source": [
    "### Lambdas capture the variable, partial captures the value.\n",
    "A cool thing about lambda"
   ]
  },
  {
   "cell_type": "code",
   "execution_count": 12,
   "metadata": {
    "collapsed": false
   },
   "outputs": [
    {
     "data": {
      "text/plain": [
       "(2, 2)"
      ]
     },
     "execution_count": 12,
     "metadata": {},
     "output_type": "execute_result"
    }
   ],
   "source": [
    "y = 0\n",
    "myFunc0 = functools.partial(myFuncY, y)\n",
    "g = lambda x: myFuncY(y,x)\n",
    "myFunc0(2), g(2)"
   ]
  },
  {
   "cell_type": "code",
   "execution_count": 13,
   "metadata": {
    "collapsed": false
   },
   "outputs": [
    {
     "data": {
      "text/plain": [
       "(2, -3)"
      ]
     },
     "execution_count": 13,
     "metadata": {},
     "output_type": "execute_result"
    }
   ],
   "source": [
    "# now let's change y\n",
    "y = 5\n",
    "myFunc0(2), g(2)"
   ]
  },
  {
   "cell_type": "markdown",
   "metadata": {},
   "source": [
    "## Solving Implied Volatility"
   ]
  },
  {
   "cell_type": "code",
   "execution_count": 14,
   "metadata": {
    "collapsed": false
   },
   "outputs": [],
   "source": [
    "def bsm_option_price(strike, spot, vol, texp, intr=0.0, divr=0.0, cp_sign=1):\n",
    "    vol_std = vol * np.sqrt(texp)\n",
    "    div_fac = np.exp(-texp*divr)\n",
    "    disc_fac = np.exp(-texp*intr)\n",
    "    forward = spot / disc_fac * div_fac\n",
    "    d1 = np.log(forward/strike)/vol_std + 0.5*vol_std\n",
    "    d2 = d1 - vol_std\n",
    "\n",
    "    price = cp_sign * disc_fac \\\n",
    "        * ( forward * ss.norm.cdf(cp_sign*d1) - strike * ss.norm.cdf(cp_sign*d2) )\n",
    "    return price"
   ]
  },
  {
   "cell_type": "code",
   "execution_count": 15,
   "metadata": {
    "collapsed": false
   },
   "outputs": [
    {
     "name": "stdout",
     "output_type": "stream",
     "text": [
      "2.0640191379\n"
     ]
    }
   ],
   "source": [
    "strike = 105\n",
    "spot = 100\n",
    "vol = 0.2\n",
    "texp = 0.25\n",
    "\n",
    "price = bsm_option_price(strike, spot, vol, texp)\n",
    "print(price)"
   ]
  },
  {
   "cell_type": "code",
   "execution_count": null,
   "metadata": {
    "collapsed": true
   },
   "outputs": [],
   "source": []
  },
  {
   "cell_type": "code",
   "execution_count": null,
   "metadata": {
    "collapsed": true
   },
   "outputs": [],
   "source": []
  },
  {
   "cell_type": "code",
   "execution_count": 16,
   "metadata": {
    "collapsed": true
   },
   "outputs": [],
   "source": [
    "# We bind all the arguments EXCEPT vol\n",
    "func_impvol = lambda _vol: bsm_option_price(strike, spot, _vol, texp) - price"
   ]
  },
  {
   "cell_type": "code",
   "execution_count": 17,
   "metadata": {
    "collapsed": false
   },
   "outputs": [
    {
     "name": "stdout",
     "output_type": "stream",
     "text": [
      "20.00%\n"
     ]
    }
   ],
   "source": [
    "# Let's find the implied vol\n",
    "impvol = sopt.brentq(func_impvol, 0.0001, 1)\n",
    "print('{:0.2f}%'.format(impvol*100))"
   ]
  },
  {
   "cell_type": "code",
   "execution_count": 18,
   "metadata": {
    "collapsed": false
   },
   "outputs": [
    {
     "name": "stdout",
     "output_type": "stream",
     "text": [
      "25.04%\n"
     ]
    }
   ],
   "source": [
    "# For different price\n",
    "price = 3\n",
    "impvol = sopt.brentq(func_impvol, 0.0001, 1)\n",
    "print('{:0.2f}%'.format(impvol*100))"
   ]
  },
  {
   "cell_type": "markdown",
   "metadata": {},
   "source": [
    "### Class version"
   ]
  },
  {
   "cell_type": "code",
   "execution_count": 19,
   "metadata": {
    "collapsed": true
   },
   "outputs": [],
   "source": [
    "class OptionContract:\n",
    "    def __init__(self, undl, opt_type, strike, dexp):\n",
    "        ''' Constructor for this class. '''\n",
    "        self.undl, self.strike, self.dexp = undl, strike, dexp\n",
    "        self.opt_type = opt_type\n",
    "        self.cp_sign = 1 if (opt_type == 'call') else -1\n",
    "\n",
    "    def toString(self):\n",
    "        return('{:s} option on {:s} struck at {:0.1f} maturing on {:s}'\\\n",
    "              .format(self.opt_type, self.undl, self.strike, self.dexp.strftime('%Y.%m.%d')))\n",
    "\n",
    "    def price(self, spot, model):\n",
    "        return model.price_contract(spot, self)\n"
   ]
  },
  {
   "cell_type": "code",
   "execution_count": 20,
   "metadata": {
    "collapsed": false
   },
   "outputs": [],
   "source": [
    "class BsmModel:\n",
    "    vol, intr, divr = None, None, None\n",
    "\n",
    "    def __init__(self, vol, intr=0.0, divr=0.0): # Constructor\n",
    "        self.set_params(vol, intr, divr)\n",
    "\n",
    "    def set_params(self, vol=None, intr=None, divr=None):\n",
    "        self.vol = vol if(vol != None) else self.vol\n",
    "        self.intr = intr if(intr != None) else self.intr\n",
    "        self.divr = divr if(divr != None) else self.divr\n",
    "\n",
    "    def price(self, strike, spot, texp, cp_sign=1):\n",
    "        return bsm_option_price(strike, spot, self.vol, texp, intr=self.intr, divr=self.divr, cp_sign=1)\n",
    "\n",
    "    def price_contract(self, spot, contract):\n",
    "        texp = (contract.dexp - dt.date.today()).days/365.25\n",
    "        return self.price(contract.strike, spot, texp, contract.cp_sign)\n",
    "    \n",
    "    def impvol(self, price, strike, spot, texp, cp_sign=1):\n",
    "        iv_func = lambda _vol: \\\n",
    "            bsm_option_price(strike, spot, _vol, texp, self.intr, self.divr, cp_sign) - price\n",
    "        vol = sopt.brentq(iv_func, 0.00001, 10)\n",
    "        return vol\n",
    "    \n",
    "    def impvol_contract(self, contract, price ):\n",
    "        texp = (contract.dexp - dt.date.today()).days/365.25\n",
    "        return self.impvol(price, contract.strike, spot, texp, contract.cp_sign)\n",
    "\n",
    "    def calibrate(self, contract, price):\n",
    "        self.vol = self.impvol_contract(contract, price)\n",
    "        print('vol set to {:0.1f}%'.format(self.vol*100))"
   ]
  },
  {
   "cell_type": "code",
   "execution_count": 21,
   "metadata": {
    "collapsed": false
   },
   "outputs": [
    {
     "data": {
      "text/plain": [
       "7.0844942478298947"
      ]
     },
     "execution_count": 21,
     "metadata": {},
     "output_type": "execute_result"
    }
   ],
   "source": [
    "bsm3 = BsmModel(vol=0.2)\n",
    "\n",
    "price = bsm3.price(strike=102, spot=100, texp=1, cp_sign=1)\n",
    "price"
   ]
  },
  {
   "cell_type": "code",
   "execution_count": 22,
   "metadata": {
    "collapsed": false
   },
   "outputs": [
    {
     "data": {
      "text/plain": [
       "0.20000000000003704"
      ]
     },
     "execution_count": 22,
     "metadata": {},
     "output_type": "execute_result"
    }
   ],
   "source": [
    "bsm3.impvol(price, strike=102, spot=100, texp=1)"
   ]
  },
  {
   "cell_type": "code",
   "execution_count": 23,
   "metadata": {
    "collapsed": false
   },
   "outputs": [
    {
     "name": "stdout",
     "output_type": "stream",
     "text": [
      "call option on Tencent struck at 105.0 maturing on 2017.12.25\n",
      "put option on Tencent struck at 95.0 maturing on 2017.12.25\n"
     ]
    }
   ],
   "source": [
    "tc_c105_dec = OptionContract('Tencent', 'call', 105, dexp=dt.date(2017, 12, 25))\n",
    "tc_p95_dec = OptionContract('Tencent', 'put', 95, dexp=dt.date(2017, 12, 25))\n",
    "print(tc_c105_dec.toString())\n",
    "print(tc_p95_dec.toString())"
   ]
  },
  {
   "cell_type": "code",
   "execution_count": 24,
   "metadata": {
    "collapsed": false
   },
   "outputs": [
    {
     "name": "stdout",
     "output_type": "stream",
     "text": [
      "2.05781267056 6.88223333229\n"
     ]
    }
   ],
   "source": [
    "tc_spot = 100\n",
    "price1 = tc_c105_dec.price(tc_spot, model=bsm3)\n",
    "price2 = tc_p95_dec.price(tc_spot, model=bsm3)\n",
    "print(price1, price2)"
   ]
  },
  {
   "cell_type": "code",
   "execution_count": 25,
   "metadata": {
    "collapsed": false
   },
   "outputs": [
    {
     "name": "stdout",
     "output_type": "stream",
     "text": [
      "24.56% 53.26%\n"
     ]
    }
   ],
   "source": [
    "# Let's assume price1 and price2 are given from market\n",
    "price1 = 2.9\n",
    "vol1 = bsm3.impvol_contract(tc_c105_dec, price1)\n",
    "price2 = 8\n",
    "vol2 = bsm3.impvol_contract(tc_p95_dec, price2)\n",
    "\n",
    "print('{:0.2f}% {:0.2f}%'.format(vol1*100, vol2*100))"
   ]
  },
  {
   "cell_type": "code",
   "execution_count": 26,
   "metadata": {
    "collapsed": false
   },
   "outputs": [
    {
     "name": "stdout",
     "output_type": "stream",
     "text": [
      "vol set to 24.6%\n"
     ]
    },
    {
     "data": {
      "text/plain": [
       "2.8999999999999986"
      ]
     },
     "execution_count": 26,
     "metadata": {},
     "output_type": "execute_result"
    }
   ],
   "source": [
    "bsm3.calibrate(tc_c105_dec, price1)\n",
    "tc_c105_dec.price(tc_spot, model=bsm3)"
   ]
  },
  {
   "cell_type": "code",
   "execution_count": 27,
   "metadata": {
    "collapsed": false
   },
   "outputs": [
    {
     "data": {
      "text/plain": [
       "0.21460183660255172"
      ]
     },
     "execution_count": 27,
     "metadata": {},
     "output_type": "execute_result"
    }
   ],
   "source": [
    "1-np.pi/4"
   ]
  },
  {
   "cell_type": "code",
   "execution_count": null,
   "metadata": {
    "collapsed": true
   },
   "outputs": [],
   "source": []
  }
 ],
 "metadata": {
  "anaconda-cloud": {},
  "kernelspec": {
   "display_name": "Python [default]",
   "language": "python",
   "name": "python3"
  },
  "language_info": {
   "codemirror_mode": {
    "name": "ipython",
    "version": 3
   },
   "file_extension": ".py",
   "mimetype": "text/x-python",
   "name": "python",
   "nbconvert_exporter": "python",
   "pygments_lexer": "ipython3",
   "version": "3.5.2"
  }
 },
 "nbformat": 4,
 "nbformat_minor": 1
}
